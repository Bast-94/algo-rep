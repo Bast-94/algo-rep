{

  "cells": [
    {
      "cell_type": "markdown",
      "metadata": {
        "id": "R_wZw7a2NslZ"
      },
      "source": [
        "# Fight against financial crimes\n",
        "Context\n",
        "Banks are investing a lot of money to prevent financial frauds. One of them is Credit Card Fraud. To give a little context, credit cards frauds:\n",
        "\n",
        "* Global losses to credit card fraud approximates $35 billion annually\n",
        "\n",
        "* The amount of credit card data available on the dark web increased by 135% last year.\n",
        "\n",
        "* 130,928 credit card fraud reports were recorded in the United States in 2018.\n",
        "\n",
        "No need to say that this is a huge issue. `Societe Générale`, one of the biggest european banks, led innovation initiatives to use AI to detect credit card fraud more efficiently.\n",
        "\n",
        "They provided you with an anonymized dataset and they need you to build a ML algorithm that:\n",
        "\n",
        "* Is able to accurately predict credit card fraud\n",
        "\n",
        "* Is not black box - They need to be able to trace how the algorithm got the result it came up with"
      ]
    },
    {
      "cell_type": "markdown",
      "metadata": {
        "id": "r8urGS2JNsld"
      },
      "source": [
        "## Exercise - Part I\n",
        "`sklearn` and `Ray` both make perfect candidate to train an interpretable algorithm. \n",
        "\n",
        "First:\n",
        "\n",
        "Create an algorithm without using Ray that gives you good results\n",
        "\n",
        "Then:\n",
        "\n",
        "Run the training script over Ray"
      ]
    },
    {
      "cell_type": "markdown",
      "source": [
        "### Imports\n"
      ],
      "metadata": {
        "id": "eb9Y1GNbN3TP"
      }
    },
    {
      "cell_type": "code",
      "execution_count": null,
      "metadata": {
        "id": "2254aAgGNsld"
      },
      "outputs": [],
      "source": [
        "\n",
        "import pandas as pd\n",
        "import numpy as np\n",
        "import sklearn as sk"
      ]
    },
    {
      "cell_type": "markdown",
      "source": [
        "### Load our dataset"
      ],
      "metadata": {
        "id": "dCcrhX0aN8mP"
      }
    },
    {
      "cell_type": "code",
      "execution_count": null,
      "metadata": {
        "id": "7iVJP1vZNsle"
      },
      "outputs": [],
      "source": [
        "ds_train = pd.read_csv('creditcard.csv')"
      ]
    },
    {
      "cell_type": "markdown",
      "source": [
        "### Split the dataset into training and validation sets with 80% of the data in the training set"
      ],
      "metadata": {
        "id": "t_IFKmBzOAKv"
      }
    },
    {
      "cell_type": "code",
      "execution_count": null,
      "metadata": {
        "id": "JpWt1M6ZNslf"
      },
      "outputs": [],
      "source": [
        "\n",
        "\n",
        "from sklearn.model_selection import train_test_split\n",
        "\n",
        "X_train, X_test, y_train, y_test = train_test_split(ds_train.drop('Class', axis=1), ds_train['Class'], test_size=0.2, random_state=42)"
      ]
    },
    {
      "cell_type": "markdown",
      "source": [
        "### Create a good model for classification of the data and compute execution time"
      ],
      "metadata": {
        "id": "QezguXE4ONiD"
      }
    },
    {
      "cell_type": "code",
      "execution_count": null,
      "metadata": {
        "id": "f9tNiVCxNslf",
        "outputId": "06a876ad-757e-4785-c953-3c2a23cfe562"
      },
      "outputs": [
        {
          "name": "stdout",
          "output_type": "stream",
          "text": [
            "--- 126.40247201919556 seconds ---\n",
            "accuracy:  0.9995611109160493\n"
          ]
        }
      ],
      "source": [
        "import time\n",
        "from sklearn.ensemble import RandomForestClassifier\n",
        "model = RandomForestClassifier(random_state=42)\n",
        "start_time = time.time()\n",
        "model.fit(X_train, y_train)\n",
        "\n",
        "# print execution time\n",
        "\n",
        "print(\"--- %s seconds ---\" % (time.time() - start_time))\n",
        "\n",
        "# predict the results of the test set\n",
        "y_pred = model.predict(X_test)\n",
        "\n",
        "# print \"accuracy = \" and the accuracy score\n",
        "from sklearn.metrics import accuracy_score\n",
        "print(\"accuracy: \", accuracy_score(y_test, y_pred))\n"
      ]
    },
    {
      "cell_type": "markdown",
      "metadata": {
        "id": "7sMCDPfwNslg"
      },
      "source": [
        "## Ray Implementation\n",
        "Now let's compare the accuracy and execution time with Ray."
      ]
    },
    {
      "cell_type": "code",
      "execution_count": null,
      "metadata": {
        "id": "b3eUUyQINslg",
        "outputId": "cb0ef2b1-ba1b-47a7-80b3-6b4a27df8719"
      },
      "outputs": [
        {
          "name": "stdout",
          "output_type": "stream",
          "text": [
            "CPU times: user 1 µs, sys: 1e+03 ns, total: 2 µs\n",
            "Wall time: 7.87 µs\n",
            "--- 29.6087167263031 seconds ---\n",
            "accuracy:  0.9995611109160493\n"
          ]
        }
      ],
      "source": [
        "%time\n",
        "\n",
        "import joblib\n",
        "from ray.util.joblib import register_ray\n",
        "\n",
        "# Necessary otherwise your model will be trained only on one node\n",
        "## FYI, you won't see any difference if you run `register_ray()` & `with joblib.parallel_backend('ray')\n",
        "## on minikube, since it runs only one node. But if you run it in production, you will see that your task\n",
        "## will be distributed on several machines.\n",
        "start_time = time.time()\n",
        "register_ray() \n",
        "with joblib.parallel_backend('ray'):\n",
        "    model.fit(X_train, y_train)\n",
        "    print(\"--- %s seconds ---\" % (time.time() - start_time))\n",
        "    y_pred = model.predict(X_test)\n",
        "    print(\"accuracy: \", accuracy_score(y_test, y_pred))\n",
        "\n",
        "\n"
      ]
    },
    {
      "cell_type": "markdown",
      "source": [
        "We can see that the training is faster with Ray."
      ],
      "metadata": {
        "id": "Er2Nm2_6OnFB"
      }
    },
    {
      "cell_type": "markdown",
      "metadata": {
        "id": "vxMNc5YHNslh"
      },
      "source": [
        "## Exercise - Part II\n",
        "Now we want to get more accurate results:\n",
        "\n",
        "Run a `hyperparameter tuning job` that improves your initial performance"
      ]
    },
    {
      "cell_type": "code",
      "execution_count": null,
      "metadata": {
        "id": "OTv2xYSZNslh"
      },
      "outputs": [],
      "source": [
        "\n",
        "import time\n",
        "from ray.tune.sklearn import TuneGridSearchCV\n",
        "from ray.util.joblib import register_ray\n",
        "from sklearn.ensemble import RandomForestClassifier\n",
        "from sklearn.model_selection import GridSearchCV\n",
        "\n",
        "\n",
        "# Necessary otherwise your model will be trained only on one node\n",
        "## FYI, you won't see any difference if you run `register_ray()` & `with joblib.parallel_backend('ray')\n",
        "## on minikube, since it runs only one node. But if you run it in production, you will see that your task\n",
        "## will be distributed on several machines.\n",
        "register_ray()\n",
        "with joblib.parallel_backend('ray'):\n",
        "    model.fit(X_train, y_train)"
      ]
    },
    {
      "cell_type": "markdown",
      "source": [
        "### Here we are making hyperparameter tuning, by creating a paramspace, for `max_depth`, `min_samples_split` and `criterion` with `GridSearchCV`"
      ],
      "metadata": {
        "id": "hEYDecT9PAgL"
      }
    },
    {
      "cell_type": "code",
      "execution_count": null,
      "metadata": {
        "id": "EXC3IbXINsli",
        "outputId": "41b9c483-af87-4632-bab3-719748378827"
      },
      "outputs": [
        {
          "name": "stdout",
          "output_type": "stream",
          "text": [
            "le temps final est 1841.3153438568115\n"
          ]
        }
      ],
      "source": [
        "start = time.time()\n",
        "\n",
        "# Create parameters space\n",
        "param_space = {\n",
        "    'max_depth': [None] + list(range(10, 20, 5)),\n",
        "    'min_samples_split': range(2, 10, 2),\n",
        "    'criterion': ['gini', 'entropy'],\n",
        "}\n",
        "\n",
        "search = GridSearchCV(\n",
        "            model,\n",
        "            param_space,\n",
        "            n_jobs = -1\n",
        "        )\n",
        "\n",
        "# This time we don't use `register_ray()` & `with joblib.parallel_backend('ray') since\n",
        "## TuneGridSearchCV already includes parallel computing.\n",
        "search.fit(X_train, y_train)\n",
        "end = time.time()\n",
        "print(\"le temps final est {}\".format(end - start))"
      ]
    },
    {
      "cell_type": "code",
      "execution_count": null,
      "metadata": {
        "id": "OhJmo8OuNsli",
        "outputId": "95532a45-b131-4f4f-b16d-daf8c192c719"
      },
      "outputs": [
        {
          "data": {
            "text/plain": [
              "{'criterion': 'entropy', 'max_depth': None, 'min_samples_split': 6}"
            ]
          },
          "execution_count": 88,
          "metadata": {},
          "output_type": "execute_result"
        }
      ],
      "source": [
        "search.best_params_"
      ]
    },
    {
      "cell_type": "markdown",
      "source": [
        "So here the best hyperparameters are `'entropy'` for `criterion`, no `max_depth`  and 6 for `min_samples_split`.  "
      ],
      "metadata": {
        "id": "IudPHm_5PX5t"
      }
    },
    {
      "cell_type": "markdown",
      "source": [
        "Now let's work with `TuneGridSearchCV` :"
      ],
      "metadata": {
        "id": "916fWyhRQJg_"
      }
    },
    {
      "cell_type": "code",
      "execution_count": null,
      "metadata": {
        "id": "Ui6z9nKQNsli",
        "outputId": "2cc9a1e2-bb49-41b6-9e12-29770649e218"
      },
      "outputs": [
        {
          "data": {
            "text/html": [
              "<div class=\"tuneStatus\">\n",
              "  <div style=\"display: flex;flex-direction: row\">\n",
              "    <div style=\"display: flex;flex-direction: column;\">\n",
              "      <h3>Tune Status</h3>\n",
              "      <table>\n",
              "<tbody>\n",
              "<tr><td>Current time:</td><td>2023-04-21 00:03:29</td></tr>\n",
              "<tr><td>Running for: </td><td>00:00:53.62        </td></tr>\n",
              "<tr><td>Memory:      </td><td>12.9/16.0 GiB      </td></tr>\n",
              "</tbody>\n",
              "</table>\n",
              "    </div>\n",
              "    <div class=\"vDivider\"></div>\n",
              "    <div class=\"systemInfo\">\n",
              "      <h3>System Info</h3>\n",
              "      Using AsyncHyperBand: num_stopped=0<br>Bracket: Iter 4.000: None | Iter 1.000: None<br>Resources requested: 8.0/8 CPUs, 0/0 GPUs, 0.0/7.36 GiB heap, 0.0/2.0 GiB objects\n",
              "    </div>\n",
              "    <div class=\"vDivider\"></div>\n",
              "<div class=\"messages\">\n",
              "  <h3>Messages</h3>\n",
              "  \n",
              "  ... 4 more trials not shown (4 PENDING)\n",
              "  \n",
              "</div>\n",
              "<style>\n",
              ".messages {\n",
              "  color: var(--jp-ui-font-color1);\n",
              "  display: flex;\n",
              "  flex-direction: column;\n",
              "  padding-left: 1em;\n",
              "  overflow-y: auto;\n",
              "}\n",
              ".messages h3 {\n",
              "  font-weight: bold;\n",
              "}\n",
              ".vDivider {\n",
              "  border-left-width: var(--jp-border-width);\n",
              "  border-left-color: var(--jp-border-color0);\n",
              "  border-left-style: solid;\n",
              "  margin: 0.5em 1em 0.5em 1em;\n",
              "}\n",
              "</style>\n",
              "\n",
              "  </div>\n",
              "  <div class=\"hDivider\"></div>\n",
              "  <div class=\"trialStatus\">\n",
              "    <h3>Trial Status</h3>\n",
              "    <table>\n",
              "<thead>\n",
              "<tr><th>Trial name            </th><th>status  </th><th>loc            </th><th>criterion  </th><th style=\"text-align: right;\">  max_depth</th><th style=\"text-align: right;\">  min_samples_split</th></tr>\n",
              "</thead>\n",
              "<tbody>\n",
              "<tr><td>_Trainable_0e9f8_00000</td><td>RUNNING </td><td>127.0.0.1:64880</td><td>gini       </td><td style=\"text-align: right;\">           </td><td style=\"text-align: right;\">                  2</td></tr>\n",
              "<tr><td>_Trainable_0e9f8_00001</td><td>RUNNING </td><td>127.0.0.1:64885</td><td>entropy    </td><td style=\"text-align: right;\">           </td><td style=\"text-align: right;\">                  2</td></tr>\n",
              "<tr><td>_Trainable_0e9f8_00002</td><td>RUNNING </td><td>127.0.0.1:64886</td><td>gini       </td><td style=\"text-align: right;\">         10</td><td style=\"text-align: right;\">                  2</td></tr>\n",
              "<tr><td>_Trainable_0e9f8_00003</td><td>RUNNING </td><td>127.0.0.1:64887</td><td>entropy    </td><td style=\"text-align: right;\">         10</td><td style=\"text-align: right;\">                  2</td></tr>\n",
              "<tr><td>_Trainable_0e9f8_00004</td><td>RUNNING </td><td>127.0.0.1:64888</td><td>gini       </td><td style=\"text-align: right;\">         15</td><td style=\"text-align: right;\">                  2</td></tr>\n",
              "<tr><td>_Trainable_0e9f8_00005</td><td>RUNNING </td><td>127.0.0.1:64889</td><td>entropy    </td><td style=\"text-align: right;\">         15</td><td style=\"text-align: right;\">                  2</td></tr>\n",
              "<tr><td>_Trainable_0e9f8_00006</td><td>RUNNING </td><td>127.0.0.1:64890</td><td>gini       </td><td style=\"text-align: right;\">           </td><td style=\"text-align: right;\">                  4</td></tr>\n",
              "<tr><td>_Trainable_0e9f8_00007</td><td>RUNNING </td><td>127.0.0.1:64891</td><td>entropy    </td><td style=\"text-align: right;\">           </td><td style=\"text-align: right;\">                  4</td></tr>\n",
              "<tr><td>_Trainable_0e9f8_00008</td><td>PENDING </td><td>               </td><td>gini       </td><td style=\"text-align: right;\">         10</td><td style=\"text-align: right;\">                  4</td></tr>\n",
              "<tr><td>_Trainable_0e9f8_00009</td><td>PENDING </td><td>               </td><td>entropy    </td><td style=\"text-align: right;\">         10</td><td style=\"text-align: right;\">                  4</td></tr>\n",
              "<tr><td>_Trainable_0e9f8_00010</td><td>PENDING </td><td>               </td><td>gini       </td><td style=\"text-align: right;\">         15</td><td style=\"text-align: right;\">                  4</td></tr>\n",
              "<tr><td>_Trainable_0e9f8_00011</td><td>PENDING </td><td>               </td><td>entropy    </td><td style=\"text-align: right;\">         15</td><td style=\"text-align: right;\">                  4</td></tr>\n",
              "<tr><td>_Trainable_0e9f8_00012</td><td>PENDING </td><td>               </td><td>gini       </td><td style=\"text-align: right;\">           </td><td style=\"text-align: right;\">                  6</td></tr>\n",
              "<tr><td>_Trainable_0e9f8_00013</td><td>PENDING </td><td>               </td><td>entropy    </td><td style=\"text-align: right;\">           </td><td style=\"text-align: right;\">                  6</td></tr>\n",
              "<tr><td>_Trainable_0e9f8_00014</td><td>PENDING </td><td>               </td><td>gini       </td><td style=\"text-align: right;\">         10</td><td style=\"text-align: right;\">                  6</td></tr>\n",
              "<tr><td>_Trainable_0e9f8_00015</td><td>PENDING </td><td>               </td><td>entropy    </td><td style=\"text-align: right;\">         10</td><td style=\"text-align: right;\">                  6</td></tr>\n",
              "<tr><td>_Trainable_0e9f8_00016</td><td>PENDING </td><td>               </td><td>gini       </td><td style=\"text-align: right;\">         15</td><td style=\"text-align: right;\">                  6</td></tr>\n",
              "<tr><td>_Trainable_0e9f8_00017</td><td>PENDING </td><td>               </td><td>entropy    </td><td style=\"text-align: right;\">         15</td><td style=\"text-align: right;\">                  6</td></tr>\n",
              "<tr><td>_Trainable_0e9f8_00018</td><td>PENDING </td><td>               </td><td>gini       </td><td style=\"text-align: right;\">           </td><td style=\"text-align: right;\">                  8</td></tr>\n",
              "<tr><td>_Trainable_0e9f8_00019</td><td>PENDING </td><td>               </td><td>entropy    </td><td style=\"text-align: right;\">           </td><td style=\"text-align: right;\">                  8</td></tr>\n",
              "</tbody>\n",
              "</table>\n",
              "  </div>\n",
              "</div>\n",
              "<style>\n",
              ".tuneStatus {\n",
              "  color: var(--jp-ui-font-color1);\n",
              "}\n",
              ".tuneStatus .systemInfo {\n",
              "  display: flex;\n",
              "  flex-direction: column;\n",
              "}\n",
              ".tuneStatus td {\n",
              "  white-space: nowrap;\n",
              "}\n",
              ".tuneStatus .trialStatus {\n",
              "  display: flex;\n",
              "  flex-direction: column;\n",
              "}\n",
              ".tuneStatus h3 {\n",
              "  font-weight: bold;\n",
              "}\n",
              ".tuneStatus .hDivider {\n",
              "  border-bottom-width: var(--jp-border-width);\n",
              "  border-bottom-color: var(--jp-border-color0);\n",
              "  border-bottom-style: solid;\n",
              "}\n",
              ".tuneStatus .vDivider {\n",
              "  border-left-width: var(--jp-border-width);\n",
              "  border-left-color: var(--jp-border-color0);\n",
              "  border-left-style: solid;\n",
              "  margin: 0.5em 1em 0.5em 1em;\n",
              "}\n",
              "</style>\n"
            ],
            "text/plain": [
              "<IPython.core.display.HTML object>"
            ]
          },
          "metadata": {},
          "output_type": "display_data"
        },
        {
          "data": {
            "text/html": [
              "<div class=\"trialProgress\">\n",
              "  <h3>Trial Progress</h3>\n",
              "  <table>\n",
              "<thead>\n",
              "<tr><th>Trial name            </th><th style=\"text-align: right;\">  average_test_score</th><th style=\"text-align: right;\">  objective</th><th style=\"text-align: right;\">  split0_test_score</th><th style=\"text-align: right;\">  split1_test_score</th><th style=\"text-align: right;\">  split2_test_score</th><th style=\"text-align: right;\">  split3_test_score</th><th style=\"text-align: right;\">  split4_test_score</th></tr>\n",
              "</thead>\n",
              "<tbody>\n",
              "<tr><td>_Trainable_0e9f8_00000</td><td style=\"text-align: right;\">            0.999469</td><td style=\"text-align: right;\">   0.999469</td><td style=\"text-align: right;\">           0.999429</td><td style=\"text-align: right;\">           0.999407</td><td style=\"text-align: right;\">           0.999451</td><td style=\"text-align: right;\">           0.999517</td><td style=\"text-align: right;\">           0.999539</td></tr>\n",
              "<tr><td>_Trainable_0e9f8_00001</td><td style=\"text-align: right;\">            0.999548</td><td style=\"text-align: right;\">   0.999548</td><td style=\"text-align: right;\">           0.999605</td><td style=\"text-align: right;\">           0.999495</td><td style=\"text-align: right;\">           0.999451</td><td style=\"text-align: right;\">           0.999605</td><td style=\"text-align: right;\">           0.999583</td></tr>\n",
              "<tr><td>_Trainable_0e9f8_00002</td><td style=\"text-align: right;\">            0.999486</td><td style=\"text-align: right;\">   0.999486</td><td style=\"text-align: right;\">           0.999451</td><td style=\"text-align: right;\">           0.999429</td><td style=\"text-align: right;\">           0.999495</td><td style=\"text-align: right;\">           0.999451</td><td style=\"text-align: right;\">           0.999605</td></tr>\n",
              "<tr><td>_Trainable_0e9f8_00003</td><td style=\"text-align: right;\">            0.999548</td><td style=\"text-align: right;\">   0.999548</td><td style=\"text-align: right;\">           0.999605</td><td style=\"text-align: right;\">           0.999473</td><td style=\"text-align: right;\">           0.999495</td><td style=\"text-align: right;\">           0.999605</td><td style=\"text-align: right;\">           0.999561</td></tr>\n",
              "<tr><td>_Trainable_0e9f8_00004</td><td style=\"text-align: right;\">            0.999465</td><td style=\"text-align: right;\">   0.999465</td><td style=\"text-align: right;\">           0.999429</td><td style=\"text-align: right;\">           0.999429</td><td style=\"text-align: right;\">           0.999451</td><td style=\"text-align: right;\">           0.999473</td><td style=\"text-align: right;\">           0.999539</td></tr>\n",
              "<tr><td>_Trainable_0e9f8_00005</td><td style=\"text-align: right;\">            0.999544</td><td style=\"text-align: right;\">   0.999544</td><td style=\"text-align: right;\">           0.999583</td><td style=\"text-align: right;\">           0.999495</td><td style=\"text-align: right;\">           0.999451</td><td style=\"text-align: right;\">           0.999583</td><td style=\"text-align: right;\">           0.999605</td></tr>\n",
              "<tr><td>_Trainable_0e9f8_00006</td><td style=\"text-align: right;\">            0.999491</td><td style=\"text-align: right;\">   0.999491</td><td style=\"text-align: right;\">           0.999473</td><td style=\"text-align: right;\">           0.999473</td><td style=\"text-align: right;\">           0.999429</td><td style=\"text-align: right;\">           0.999517</td><td style=\"text-align: right;\">           0.999561</td></tr>\n",
              "<tr><td>_Trainable_0e9f8_00007</td><td style=\"text-align: right;\">            0.99953 </td><td style=\"text-align: right;\">   0.99953 </td><td style=\"text-align: right;\">           0.999539</td><td style=\"text-align: right;\">           0.999473</td><td style=\"text-align: right;\">           0.999473</td><td style=\"text-align: right;\">           0.999561</td><td style=\"text-align: right;\">           0.999605</td></tr>\n",
              "<tr><td>_Trainable_0e9f8_00008</td><td style=\"text-align: right;\">            0.999495</td><td style=\"text-align: right;\">   0.999495</td><td style=\"text-align: right;\">           0.999473</td><td style=\"text-align: right;\">           0.999429</td><td style=\"text-align: right;\">           0.999451</td><td style=\"text-align: right;\">           0.999561</td><td style=\"text-align: right;\">           0.999561</td></tr>\n",
              "<tr><td>_Trainable_0e9f8_00009</td><td style=\"text-align: right;\">            0.999526</td><td style=\"text-align: right;\">   0.999526</td><td style=\"text-align: right;\">           0.999561</td><td style=\"text-align: right;\">           0.999451</td><td style=\"text-align: right;\">           0.999473</td><td style=\"text-align: right;\">           0.999561</td><td style=\"text-align: right;\">           0.999583</td></tr>\n",
              "<tr><td>_Trainable_0e9f8_00010</td><td style=\"text-align: right;\">            0.999473</td><td style=\"text-align: right;\">   0.999473</td><td style=\"text-align: right;\">           0.999495</td><td style=\"text-align: right;\">           0.999429</td><td style=\"text-align: right;\">           0.999407</td><td style=\"text-align: right;\">           0.999517</td><td style=\"text-align: right;\">           0.999517</td></tr>\n",
              "<tr><td>_Trainable_0e9f8_00011</td><td style=\"text-align: right;\">            0.999526</td><td style=\"text-align: right;\">   0.999526</td><td style=\"text-align: right;\">           0.999561</td><td style=\"text-align: right;\">           0.999473</td><td style=\"text-align: right;\">           0.999473</td><td style=\"text-align: right;\">           0.999539</td><td style=\"text-align: right;\">           0.999583</td></tr>\n",
              "</tbody>\n",
              "</table>\n",
              "</div>\n",
              "<style>\n",
              ".trialProgress {\n",
              "  display: flex;\n",
              "  flex-direction: column;\n",
              "  color: var(--jp-ui-font-color1);\n",
              "}\n",
              ".trialProgress h3 {\n",
              "  font-weight: bold;\n",
              "}\n",
              ".trialProgress td {\n",
              "  white-space: nowrap;\n",
              "}\n",
              "</style>\n"
            ],
            "text/plain": [
              "<IPython.core.display.HTML object>"
            ]
          },
          "metadata": {},
          "output_type": "display_data"
        },
        {
          "name": "stderr",
          "output_type": "stream",
          "text": [
            "2023-04-21 00:11:36,065\tINFO tune.py:798 -- Total run time: 540.55 seconds (540.54 seconds for the tuning loop).\n"
          ]
        },
        {
          "name": "stdout",
          "output_type": "stream",
          "text": [
            "le temps final est 550.0752646923065\n"
          ]
        }
      ],
      "source": [
        "start = time.time()\n",
        "\n",
        "# Create parameters space\n",
        "param_space = {\n",
        "    'max_depth': [None] + list(range(10, 20, 5)),\n",
        "    'min_samples_split': range(2, 10, 2),\n",
        "    'criterion': ['gini', 'entropy'],\n",
        "}\n",
        "\n",
        "search = TuneGridSearchCV(\n",
        "            model,\n",
        "            param_grid=param_space,\n",
        "            early_stopping=True, # Stops if parameters are making model perform poorly\n",
        "            max_iters=10,\n",
        "            scoring=\"accuracy\",\n",
        "            n_jobs=-1, # Use max available cpus\n",
        "            cv=5,\n",
        "            verbose=2,\n",
        "            refit=True\n",
        "        )\n",
        "\n",
        "# Necessary otherwise your model will be trained only on one node\n",
        "## FYI, you won't see any difference if you run `register_ray()` & `with joblib.parallel_backend('ray')\n",
        "## on minikube, since it runs only one node. But if you run it in production, you will see that your task\n",
        "## will be distributed on several machines.\n",
        "search.fit(X_train, y_train)\n",
        "end = time.time()\n",
        "print(\"le temps final est {}\".format(end - start))"
      ]
    },
    {
      "cell_type": "markdown",
      "source": [
        "He we can se an improvement in run time"
      ],
      "metadata": {
        "id": "QoO753brR5Sl"
      }
    },
    {
      "cell_type": "markdown",
      "source": [
        "### Retrieving best params"
      ],
      "metadata": {
        "id": "ywEaZA5FRKja"
      }
    },
    {
      "cell_type": "code",
      "execution_count": null,
      "metadata": {
        "id": "sRWgjGUjNslj",
        "outputId": "6286247d-8c95-4bb5-f705-b3acfef41c8b"
      },
      "outputs": [
        {
          "data": {
            "text/plain": [
              "{'max_depth': 15,\n",
              " 'min_samples_split': 2,\n",
              " 'criterion': 'entropy',\n",
              " 'n_estimators': 10}"
            ]
          },
          "execution_count": 90,
          "metadata": {},
          "output_type": "execute_result"
        }
      ],
      "source": [
        "search.best_params_"
      ]
    },
    {
      "cell_type": "markdown",
      "source": [
        "So here the best hyperparameters are 'entropy' for `criterion`, 15 for `max_depth`, 10 for `n_estimators` and 2 for `min_samples_split`."
      ],
      "metadata": {
        "id": "QrGdKdwpSPJ_"
      }
    }
  ],
  "metadata": {
    "kernelspec": {
      "display_name": "dev",
      "language": "python",
      "name": "python3"
    },
    "language_info": {
      "codemirror_mode": {
        "name": "ipython",
        "version": 3
      },
      "file_extension": ".py",
      "mimetype": "text/x-python",
      "name": "python",
      "nbconvert_exporter": "python",
      "pygments_lexer": "ipython3",
      "version": "3.10.10"
    },
    "orig_nbformat": 4,
    "colab": {
      "provenance": []
    }
  },
  "nbformat": 4,
  "nbformat_minor": 0
}
 "cells": [
  {
   "attachments": {},
   "cell_type": "markdown",
   "metadata": {},
   "source": [
    "# Fight against financial crimes\n",
    "Context\n",
    "Banks are investing a lot of money to prevent financial frauds. One of them is Credit Card Fraud. To give a little context, credit cards frauds:\n",
    "\n",
    "* Global losses to credit card fraud approximates $35 billion annually\n",
    "\n",
    "* The amount of credit card data available on the dark web increased by 135% last year.\n",
    "\n",
    "* 130,928 credit card fraud reports were recorded in the United States in 2018.\n",
    "\n",
    "No need to say that this is a huge issue. `Societe Générale`, one of the biggest european banks, led innovation initiatives to use AI to detect credit card fraud more efficiently.\n",
    "\n",
    "They provided you with an anonymized dataset and they need you to build a ML algorithm that:\n",
    "\n",
    "* Is able to accurately predict credit card fraud\n",
    "\n",
    "* Is not black box - They need to be able to trace how the algorithm got the result it came up with"
   ]
  },
  {
   "attachments": {},
   "cell_type": "markdown",
   "metadata": {},
   "source": [
    "## Exercise - Part I\n",
    "`sklearn` and `Ray` both make perfect candidate to train an interpretable algorithm. \n",
    "\n",
    "First:\n",
    "\n",
    "Create an algorithm without using Ray that gives you good results\n",
    "\n",
    "Then:\n",
    "\n",
    "Run the training script over Ray"
   ]
  },
  {
   "cell_type": "code",
   "execution_count": 81,
   "metadata": {},
   "outputs": [],
   "source": [
    "# imports\n",
    "\n",
    "import pandas as pd\n",
    "import numpy as np\n",
    "import sklearn as sk"
   ]
  },
  {
   "cell_type": "code",
   "execution_count": 82,
   "metadata": {},
   "outputs": [],
   "source": [
    "# load our dataset\n",
    "\n",
    "ds_train = pd.read_csv('creditcard.csv')"
   ]
  },
  {
   "cell_type": "code",
   "execution_count": 83,
   "metadata": {},
   "outputs": [],
   "source": [
    "# split the dataset into training and validation sets with 80% of the data in the training set\n",
    "\n",
    "from sklearn.model_selection import train_test_split\n",
    "\n",
    "X_train, X_test, y_train, y_test = train_test_split(ds_train.drop('Class', axis=1), ds_train['Class'], test_size=0.2, random_state=42)"
   ]
  },
  {
   "cell_type": "code",
   "execution_count": 84,
   "metadata": {},
   "outputs": [
    {
     "name": "stdout",
     "output_type": "stream",
     "text": [
      "--- 126.40247201919556 seconds ---\n",
      "accuracy:  0.9995611109160493\n"
     ]
    }
   ],
   "source": [
    "# create a good model for classification of the data\n",
    "# compute execution time\n",
    "\n",
    "import time\n",
    "from sklearn.ensemble import RandomForestClassifier\n",
    "model = RandomForestClassifier(random_state=42)\n",
    "start_time = time.time()\n",
    "model.fit(X_train, y_train)\n",
    "\n",
    "# print execution time\n",
    "\n",
    "print(\"--- %s seconds ---\" % (time.time() - start_time))\n",
    "\n",
    "# predict the results of the test set\n",
    "y_pred = model.predict(X_test)\n",
    "\n",
    "# print \"accuracy = \" and the accuracy score\n",
    "from sklearn.metrics import accuracy_score\n",
    "print(\"accuracy: \", accuracy_score(y_test, y_pred))\n",
    "\n",
    "\n",
    "\n"
   ]
  },
  {
   "attachments": {},
   "cell_type": "markdown",
   "metadata": {},
   "source": [
    "## Ray Implementation"
   ]
  },
  {
   "cell_type": "code",
   "execution_count": 85,
   "metadata": {},
   "outputs": [
    {
     "name": "stdout",
     "output_type": "stream",
     "text": [
      "CPU times: user 1 µs, sys: 1e+03 ns, total: 2 µs\n",
      "Wall time: 7.87 µs\n",
      "--- 29.6087167263031 seconds ---\n",
      "accuracy:  0.9995611109160493\n"
     ]
    }
   ],
   "source": [
    "%time\n",
    "\n",
    "import joblib\n",
    "from ray.util.joblib import register_ray\n",
    "\n",
    "# Necessary otherwise your model will be trained only on one node\n",
    "## FYI, you won't see any difference if you run `register_ray()` & `with joblib.parallel_backend('ray')\n",
    "## on minikube, since it runs only one node. But if you run it in production, you will see that your task\n",
    "## will be distributed on several machines.\n",
    "start_time = time.time()\n",
    "register_ray() \n",
    "with joblib.parallel_backend('ray'):\n",
    "    model.fit(X_train, y_train)\n",
    "    print(\"--- %s seconds ---\" % (time.time() - start_time))\n",
    "    y_pred = model.predict(X_test)\n",
    "    print(\"accuracy: \", accuracy_score(y_test, y_pred))\n",
    "\n",
    "\n"
   ]
  },
  {
   "attachments": {},
   "cell_type": "markdown",
   "metadata": {},
   "source": [
    "## Exercise - Part II\n",
    "Now we want to get more accurate results:\n",
    "\n",
    "Run a `hyperparameter tuning job` that improves your initial performance"
   ]
  },
  {
   "cell_type": "code",
   "execution_count": 86,
   "metadata": {},
   "outputs": [],
   "source": [
    "\n",
    "import time\n",
    "from ray.tune.sklearn import TuneGridSearchCV\n",
    "from ray.util.joblib import register_ray\n",
    "from sklearn.ensemble import RandomForestClassifier\n",
    "from sklearn.model_selection import GridSearchCV\n",
    "\n",
    "\n",
    "# Necessary otherwise your model will be trained only on one node\n",
    "## FYI, you won't see any difference if you run `register_ray()` & `with joblib.parallel_backend('ray')\n",
    "## on minikube, since it runs only one node. But if you run it in production, you will see that your task\n",
    "## will be distributed on several machines.\n",
    "register_ray()\n",
    "with joblib.parallel_backend('ray'):\n",
    "    model.fit(X_train, y_train)"
   ]
  },
  {
   "cell_type": "code",
   "execution_count": 87,
   "metadata": {},
   "outputs": [
    {
     "name": "stdout",
     "output_type": "stream",
     "text": [
      "le temps final est 1841.3153438568115\n"
     ]
    }
   ],
   "source": [
    "start = time.time()\n",
    "\n",
    "# Create parameters space\n",
    "param_space = {\n",
    "    'max_depth': [None] + list(range(10, 20, 5)),\n",
    "    'min_samples_split': range(2, 10, 2),\n",
    "    'criterion': ['gini', 'entropy'],\n",
    "}\n",
    "\n",
    "search = GridSearchCV(\n",
    "            model,\n",
    "            param_space,\n",
    "            n_jobs = -1\n",
    "        )\n",
    "\n",
    "# This time we don't use `register_ray()` & `with joblib.parallel_backend('ray') since\n",
    "## TuneGridSearchCV already includes parallel computing.\n",
    "search.fit(X_train, y_train)\n",
    "end = time.time()\n",
    "print(\"le temps final est {}\".format(end - start))"
   ]
  },
  {
   "cell_type": "code",
   "execution_count": 88,
   "metadata": {},
   "outputs": [
    {
     "data": {
      "text/plain": [
       "{'criterion': 'entropy', 'max_depth': None, 'min_samples_split': 6}"
      ]
     },
     "execution_count": 88,
     "metadata": {},
     "output_type": "execute_result"
    }
   ],
   "source": [
    "search.best_params_"
   ]
  },
  {
   "cell_type": "code",
   "execution_count": 89,
   "metadata": {},
   "outputs": [
    {
     "data": {
      "text/html": [
       "<div class=\"tuneStatus\">\n",
       "  <div style=\"display: flex;flex-direction: row\">\n",
       "    <div style=\"display: flex;flex-direction: column;\">\n",
       "      <h3>Tune Status</h3>\n",
       "      <table>\n",
       "<tbody>\n",
       "<tr><td>Current time:</td><td>2023-04-21 00:03:29</td></tr>\n",
       "<tr><td>Running for: </td><td>00:00:53.62        </td></tr>\n",
       "<tr><td>Memory:      </td><td>12.9/16.0 GiB      </td></tr>\n",
       "</tbody>\n",
       "</table>\n",
       "    </div>\n",
       "    <div class=\"vDivider\"></div>\n",
       "    <div class=\"systemInfo\">\n",
       "      <h3>System Info</h3>\n",
       "      Using AsyncHyperBand: num_stopped=0<br>Bracket: Iter 4.000: None | Iter 1.000: None<br>Resources requested: 8.0/8 CPUs, 0/0 GPUs, 0.0/7.36 GiB heap, 0.0/2.0 GiB objects\n",
       "    </div>\n",
       "    <div class=\"vDivider\"></div>\n",
       "<div class=\"messages\">\n",
       "  <h3>Messages</h3>\n",
       "  \n",
       "  ... 4 more trials not shown (4 PENDING)\n",
       "  \n",
       "</div>\n",
       "<style>\n",
       ".messages {\n",
       "  color: var(--jp-ui-font-color1);\n",
       "  display: flex;\n",
       "  flex-direction: column;\n",
       "  padding-left: 1em;\n",
       "  overflow-y: auto;\n",
       "}\n",
       ".messages h3 {\n",
       "  font-weight: bold;\n",
       "}\n",
       ".vDivider {\n",
       "  border-left-width: var(--jp-border-width);\n",
       "  border-left-color: var(--jp-border-color0);\n",
       "  border-left-style: solid;\n",
       "  margin: 0.5em 1em 0.5em 1em;\n",
       "}\n",
       "</style>\n",
       "\n",
       "  </div>\n",
       "  <div class=\"hDivider\"></div>\n",
       "  <div class=\"trialStatus\">\n",
       "    <h3>Trial Status</h3>\n",
       "    <table>\n",
       "<thead>\n",
       "<tr><th>Trial name            </th><th>status  </th><th>loc            </th><th>criterion  </th><th style=\"text-align: right;\">  max_depth</th><th style=\"text-align: right;\">  min_samples_split</th></tr>\n",
       "</thead>\n",
       "<tbody>\n",
       "<tr><td>_Trainable_0e9f8_00000</td><td>RUNNING </td><td>127.0.0.1:64880</td><td>gini       </td><td style=\"text-align: right;\">           </td><td style=\"text-align: right;\">                  2</td></tr>\n",
       "<tr><td>_Trainable_0e9f8_00001</td><td>RUNNING </td><td>127.0.0.1:64885</td><td>entropy    </td><td style=\"text-align: right;\">           </td><td style=\"text-align: right;\">                  2</td></tr>\n",
       "<tr><td>_Trainable_0e9f8_00002</td><td>RUNNING </td><td>127.0.0.1:64886</td><td>gini       </td><td style=\"text-align: right;\">         10</td><td style=\"text-align: right;\">                  2</td></tr>\n",
       "<tr><td>_Trainable_0e9f8_00003</td><td>RUNNING </td><td>127.0.0.1:64887</td><td>entropy    </td><td style=\"text-align: right;\">         10</td><td style=\"text-align: right;\">                  2</td></tr>\n",
       "<tr><td>_Trainable_0e9f8_00004</td><td>RUNNING </td><td>127.0.0.1:64888</td><td>gini       </td><td style=\"text-align: right;\">         15</td><td style=\"text-align: right;\">                  2</td></tr>\n",
       "<tr><td>_Trainable_0e9f8_00005</td><td>RUNNING </td><td>127.0.0.1:64889</td><td>entropy    </td><td style=\"text-align: right;\">         15</td><td style=\"text-align: right;\">                  2</td></tr>\n",
       "<tr><td>_Trainable_0e9f8_00006</td><td>RUNNING </td><td>127.0.0.1:64890</td><td>gini       </td><td style=\"text-align: right;\">           </td><td style=\"text-align: right;\">                  4</td></tr>\n",
       "<tr><td>_Trainable_0e9f8_00007</td><td>RUNNING </td><td>127.0.0.1:64891</td><td>entropy    </td><td style=\"text-align: right;\">           </td><td style=\"text-align: right;\">                  4</td></tr>\n",
       "<tr><td>_Trainable_0e9f8_00008</td><td>PENDING </td><td>               </td><td>gini       </td><td style=\"text-align: right;\">         10</td><td style=\"text-align: right;\">                  4</td></tr>\n",
       "<tr><td>_Trainable_0e9f8_00009</td><td>PENDING </td><td>               </td><td>entropy    </td><td style=\"text-align: right;\">         10</td><td style=\"text-align: right;\">                  4</td></tr>\n",
       "<tr><td>_Trainable_0e9f8_00010</td><td>PENDING </td><td>               </td><td>gini       </td><td style=\"text-align: right;\">         15</td><td style=\"text-align: right;\">                  4</td></tr>\n",
       "<tr><td>_Trainable_0e9f8_00011</td><td>PENDING </td><td>               </td><td>entropy    </td><td style=\"text-align: right;\">         15</td><td style=\"text-align: right;\">                  4</td></tr>\n",
       "<tr><td>_Trainable_0e9f8_00012</td><td>PENDING </td><td>               </td><td>gini       </td><td style=\"text-align: right;\">           </td><td style=\"text-align: right;\">                  6</td></tr>\n",
       "<tr><td>_Trainable_0e9f8_00013</td><td>PENDING </td><td>               </td><td>entropy    </td><td style=\"text-align: right;\">           </td><td style=\"text-align: right;\">                  6</td></tr>\n",
       "<tr><td>_Trainable_0e9f8_00014</td><td>PENDING </td><td>               </td><td>gini       </td><td style=\"text-align: right;\">         10</td><td style=\"text-align: right;\">                  6</td></tr>\n",
       "<tr><td>_Trainable_0e9f8_00015</td><td>PENDING </td><td>               </td><td>entropy    </td><td style=\"text-align: right;\">         10</td><td style=\"text-align: right;\">                  6</td></tr>\n",
       "<tr><td>_Trainable_0e9f8_00016</td><td>PENDING </td><td>               </td><td>gini       </td><td style=\"text-align: right;\">         15</td><td style=\"text-align: right;\">                  6</td></tr>\n",
       "<tr><td>_Trainable_0e9f8_00017</td><td>PENDING </td><td>               </td><td>entropy    </td><td style=\"text-align: right;\">         15</td><td style=\"text-align: right;\">                  6</td></tr>\n",
       "<tr><td>_Trainable_0e9f8_00018</td><td>PENDING </td><td>               </td><td>gini       </td><td style=\"text-align: right;\">           </td><td style=\"text-align: right;\">                  8</td></tr>\n",
       "<tr><td>_Trainable_0e9f8_00019</td><td>PENDING </td><td>               </td><td>entropy    </td><td style=\"text-align: right;\">           </td><td style=\"text-align: right;\">                  8</td></tr>\n",
       "</tbody>\n",
       "</table>\n",
       "  </div>\n",
       "</div>\n",
       "<style>\n",
       ".tuneStatus {\n",
       "  color: var(--jp-ui-font-color1);\n",
       "}\n",
       ".tuneStatus .systemInfo {\n",
       "  display: flex;\n",
       "  flex-direction: column;\n",
       "}\n",
       ".tuneStatus td {\n",
       "  white-space: nowrap;\n",
       "}\n",
       ".tuneStatus .trialStatus {\n",
       "  display: flex;\n",
       "  flex-direction: column;\n",
       "}\n",
       ".tuneStatus h3 {\n",
       "  font-weight: bold;\n",
       "}\n",
       ".tuneStatus .hDivider {\n",
       "  border-bottom-width: var(--jp-border-width);\n",
       "  border-bottom-color: var(--jp-border-color0);\n",
       "  border-bottom-style: solid;\n",
       "}\n",
       ".tuneStatus .vDivider {\n",
       "  border-left-width: var(--jp-border-width);\n",
       "  border-left-color: var(--jp-border-color0);\n",
       "  border-left-style: solid;\n",
       "  margin: 0.5em 1em 0.5em 1em;\n",
       "}\n",
       "</style>\n"
      ],
      "text/plain": [
       "<IPython.core.display.HTML object>"
      ]
     },
     "metadata": {},
     "output_type": "display_data"
    },
    {
     "data": {
      "text/html": [
       "<div class=\"trialProgress\">\n",
       "  <h3>Trial Progress</h3>\n",
       "  <table>\n",
       "<thead>\n",
       "<tr><th>Trial name            </th><th style=\"text-align: right;\">  average_test_score</th><th style=\"text-align: right;\">  objective</th><th style=\"text-align: right;\">  split0_test_score</th><th style=\"text-align: right;\">  split1_test_score</th><th style=\"text-align: right;\">  split2_test_score</th><th style=\"text-align: right;\">  split3_test_score</th><th style=\"text-align: right;\">  split4_test_score</th></tr>\n",
       "</thead>\n",
       "<tbody>\n",
       "<tr><td>_Trainable_0e9f8_00000</td><td style=\"text-align: right;\">            0.999469</td><td style=\"text-align: right;\">   0.999469</td><td style=\"text-align: right;\">           0.999429</td><td style=\"text-align: right;\">           0.999407</td><td style=\"text-align: right;\">           0.999451</td><td style=\"text-align: right;\">           0.999517</td><td style=\"text-align: right;\">           0.999539</td></tr>\n",
       "<tr><td>_Trainable_0e9f8_00001</td><td style=\"text-align: right;\">            0.999548</td><td style=\"text-align: right;\">   0.999548</td><td style=\"text-align: right;\">           0.999605</td><td style=\"text-align: right;\">           0.999495</td><td style=\"text-align: right;\">           0.999451</td><td style=\"text-align: right;\">           0.999605</td><td style=\"text-align: right;\">           0.999583</td></tr>\n",
       "<tr><td>_Trainable_0e9f8_00002</td><td style=\"text-align: right;\">            0.999486</td><td style=\"text-align: right;\">   0.999486</td><td style=\"text-align: right;\">           0.999451</td><td style=\"text-align: right;\">           0.999429</td><td style=\"text-align: right;\">           0.999495</td><td style=\"text-align: right;\">           0.999451</td><td style=\"text-align: right;\">           0.999605</td></tr>\n",
       "<tr><td>_Trainable_0e9f8_00003</td><td style=\"text-align: right;\">            0.999548</td><td style=\"text-align: right;\">   0.999548</td><td style=\"text-align: right;\">           0.999605</td><td style=\"text-align: right;\">           0.999473</td><td style=\"text-align: right;\">           0.999495</td><td style=\"text-align: right;\">           0.999605</td><td style=\"text-align: right;\">           0.999561</td></tr>\n",
       "<tr><td>_Trainable_0e9f8_00004</td><td style=\"text-align: right;\">            0.999465</td><td style=\"text-align: right;\">   0.999465</td><td style=\"text-align: right;\">           0.999429</td><td style=\"text-align: right;\">           0.999429</td><td style=\"text-align: right;\">           0.999451</td><td style=\"text-align: right;\">           0.999473</td><td style=\"text-align: right;\">           0.999539</td></tr>\n",
       "<tr><td>_Trainable_0e9f8_00005</td><td style=\"text-align: right;\">            0.999544</td><td style=\"text-align: right;\">   0.999544</td><td style=\"text-align: right;\">           0.999583</td><td style=\"text-align: right;\">           0.999495</td><td style=\"text-align: right;\">           0.999451</td><td style=\"text-align: right;\">           0.999583</td><td style=\"text-align: right;\">           0.999605</td></tr>\n",
       "<tr><td>_Trainable_0e9f8_00006</td><td style=\"text-align: right;\">            0.999491</td><td style=\"text-align: right;\">   0.999491</td><td style=\"text-align: right;\">           0.999473</td><td style=\"text-align: right;\">           0.999473</td><td style=\"text-align: right;\">           0.999429</td><td style=\"text-align: right;\">           0.999517</td><td style=\"text-align: right;\">           0.999561</td></tr>\n",
       "<tr><td>_Trainable_0e9f8_00007</td><td style=\"text-align: right;\">            0.99953 </td><td style=\"text-align: right;\">   0.99953 </td><td style=\"text-align: right;\">           0.999539</td><td style=\"text-align: right;\">           0.999473</td><td style=\"text-align: right;\">           0.999473</td><td style=\"text-align: right;\">           0.999561</td><td style=\"text-align: right;\">           0.999605</td></tr>\n",
       "<tr><td>_Trainable_0e9f8_00008</td><td style=\"text-align: right;\">            0.999495</td><td style=\"text-align: right;\">   0.999495</td><td style=\"text-align: right;\">           0.999473</td><td style=\"text-align: right;\">           0.999429</td><td style=\"text-align: right;\">           0.999451</td><td style=\"text-align: right;\">           0.999561</td><td style=\"text-align: right;\">           0.999561</td></tr>\n",
       "<tr><td>_Trainable_0e9f8_00009</td><td style=\"text-align: right;\">            0.999526</td><td style=\"text-align: right;\">   0.999526</td><td style=\"text-align: right;\">           0.999561</td><td style=\"text-align: right;\">           0.999451</td><td style=\"text-align: right;\">           0.999473</td><td style=\"text-align: right;\">           0.999561</td><td style=\"text-align: right;\">           0.999583</td></tr>\n",
       "<tr><td>_Trainable_0e9f8_00010</td><td style=\"text-align: right;\">            0.999473</td><td style=\"text-align: right;\">   0.999473</td><td style=\"text-align: right;\">           0.999495</td><td style=\"text-align: right;\">           0.999429</td><td style=\"text-align: right;\">           0.999407</td><td style=\"text-align: right;\">           0.999517</td><td style=\"text-align: right;\">           0.999517</td></tr>\n",
       "<tr><td>_Trainable_0e9f8_00011</td><td style=\"text-align: right;\">            0.999526</td><td style=\"text-align: right;\">   0.999526</td><td style=\"text-align: right;\">           0.999561</td><td style=\"text-align: right;\">           0.999473</td><td style=\"text-align: right;\">           0.999473</td><td style=\"text-align: right;\">           0.999539</td><td style=\"text-align: right;\">           0.999583</td></tr>\n",
       "</tbody>\n",
       "</table>\n",
       "</div>\n",
       "<style>\n",
       ".trialProgress {\n",
       "  display: flex;\n",
       "  flex-direction: column;\n",
       "  color: var(--jp-ui-font-color1);\n",
       "}\n",
       ".trialProgress h3 {\n",
       "  font-weight: bold;\n",
       "}\n",
       ".trialProgress td {\n",
       "  white-space: nowrap;\n",
       "}\n",
       "</style>\n"
      ],
      "text/plain": [
       "<IPython.core.display.HTML object>"
      ]
     },
     "metadata": {},
     "output_type": "display_data"
    },
    {
     "name": "stderr",
     "output_type": "stream",
     "text": [
      "2023-04-21 00:11:36,065\tINFO tune.py:798 -- Total run time: 540.55 seconds (540.54 seconds for the tuning loop).\n"
     ]
    },
    {
     "name": "stdout",
     "output_type": "stream",
     "text": [
      "le temps final est 550.0752646923065\n"
     ]
    }
   ],
   "source": [
    "start = time.time()\n",
    "\n",
    "# Create parameters space\n",
    "param_space = {\n",
    "    'max_depth': [None] + list(range(10, 20, 5)),\n",
    "    'min_samples_split': range(2, 10, 2),\n",
    "    'criterion': ['gini', 'entropy'],\n",
    "}\n",
    "\n",
    "search = TuneGridSearchCV(\n",
    "            model,\n",
    "            param_grid=param_space,\n",
    "            early_stopping=True, # Stops if parameters are making model perform poorly\n",
    "            max_iters=10,\n",
    "            scoring=\"accuracy\",\n",
    "            n_jobs=-1, # Use max available cpus\n",
    "            cv=5,\n",
    "            verbose=2,\n",
    "            refit=True\n",
    "        )\n",
    "\n",
    "# Necessary otherwise your model will be trained only on one node\n",
    "## FYI, you won't see any difference if you run `register_ray()` & `with joblib.parallel_backend('ray')\n",
    "## on minikube, since it runs only one node. But if you run it in production, you will see that your task\n",
    "## will be distributed on several machines.\n",
    "search.fit(X_train, y_train)\n",
    "end = time.time()\n",
    "print(\"le temps final est {}\".format(end - start))"
   ]
  },
  {
   "cell_type": "code",
   "execution_count": 90,
   "metadata": {},
   "outputs": [
    {
     "data": {
      "text/plain": [
       "{'max_depth': 15,\n",
       " 'min_samples_split': 2,\n",
       " 'criterion': 'entropy',\n",
       " 'n_estimators': 10}"
      ]
     },
     "execution_count": 90,
     "metadata": {},
     "output_type": "execute_result"
    }
   ],
   "source": [
    "search.best_params_"
   ]
  }
 ],
 "metadata": {
  "kernelspec": {
   "display_name": "dev",
   "language": "python",
   "name": "python3"
  },
  "language_info": {
   "codemirror_mode": {
    "name": "ipython",
    "version": 3
   },
   "file_extension": ".py",
   "mimetype": "text/x-python",
   "name": "python",
   "nbconvert_exporter": "python",
   "pygments_lexer": "ipython3",
   "version": "3.10.10"
  },
  "orig_nbformat": 4
 },
 "nbformat": 4,
 "nbformat_minor": 2
}
